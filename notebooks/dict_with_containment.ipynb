{
 "cells": [
  {
   "cell_type": "code",
   "execution_count": 8,
   "metadata": {},
   "outputs": [
    {
     "name": "stdout",
     "output_type": "stream",
     "text": [
      "2\n",
      "3\n",
      "4\n",
      "5\n"
     ]
    }
   ],
   "source": [
    "base = {('s3', 't3', 'owner'), \n",
    "        ('s1', 't1', 'type'), ('s2', 't2', 'type'),\n",
    "        ('s4', 't4', 'owner'),\n",
    "        ('s5', 't5', 'memberEnd'), ('s6', 't6', 'memberEnd'),}\n",
    "\n",
    "ancestor = {('as1', 't1', 'type'), ('s2', 'at2', 'type'),\n",
    "            ('as3', 't3', 'owner'), ('s4', 'at4', 'owner'),\n",
    "            ('as5', 't5', 'memberEnd'),\n",
    "            ('s6', 'at6', 'memberEnd'),}\n",
    "\n",
    "base_change = base - ancestor\n",
    "ancestor_change = ancestor - base\n",
    "low = 2\n",
    "high = 6\n",
    "for j in range(low, high):\n",
    "    print(j)"
   ]
  },
  {
   "cell_type": "code",
   "execution_count": null,
   "metadata": {},
   "outputs": [],
   "source": [
    "base = {('s3', 't3', 'owner'), \n",
    "        ('s1', 't1', 'type'), ('s2', 't2', 'type'),\n",
    "        ('s4', 't4', 'owner'),\n",
    "        ('s5', 't5', 'memberEnd'), ('s6', 't6', 'memberEnd'),}\n",
    "# ancestor = {('as1', 't1', 'type'), ('s2', 'at2', 'type'),\n",
    "#             ('as3', 't3', 'owner'), ('s4', 'at4', 'owner'),\n",
    "#             ('as5', 't5', 'memberEnd'),\n",
    "#             ('s6', 'at6', 'memberEnd'),\n",
    "#             ('as7', 't7', 'type'), ('s8', 'at8', 'type'),\n",
    "#             ('as9', 't9', 'owner'), ('s10', 'at10', 'owner'),\n",
    "#             ('as11', 't11', 'memberEnd'),\n",
    "#             ('s12', 'at12', 'memberEnd'),\n",
    "#             ('s', 't', 'test'),}\n",
    "ancestor = {('as1', 't1', 'type'), ('s2', 'at2', 'type'),\n",
    "            ('as3', 't3', 'owner'), ('s4', 'at4', 'owner'),\n",
    "            ('as5', 't5', 'memberEnd'),\n",
    "            ('s6', 'at6', 'memberEnd'),}\n",
    "\n",
    "base_change = base - ancestor\n",
    "ance_change = ancestor - base\n",
    "\n",
    "# base_change_list = sorted(list(base_change),\n",
    "#                           key=lambda edge: len(edge[2]))\n",
    "# ance_change_list = sorted(list(ance_change),\n",
    "#                           key=lambda edge: len(edge[2]))\n",
    "\n",
    "# base_map = dict((item, count) for count, item in enumerate(\n",
    "#     base_change_list))\n",
    "\n",
    "base_change_l = list(base_change)\n",
    "ance_change_l = list(ance_change)\n",
    "shuffle(base_change_l)\n",
    "shuffle(ance_change_l)\n",
    "\n",
    "def compare(entry=None, pivot=None):\n",
    "    if entry[2] == pivot[2]:\n",
    "        if entry[0] == pivot[0] or entry[1] == pivot[1]:\n",
    "            # check the subgraph\n",
    "            # equal to if isomorphic\n",
    "            pass\n",
    "        else:\n",
    "            pass\n",
    "    elif entry[2] > pivot[2]:\n",
    "        # move entry to end of the array\n",
    "        pass\n",
    "    else:\n",
    "        #move to beginning of array\n",
    "        pass\n",
    "    \n",
    "def nut_bolt()"
   ]
  }
 ],
 "metadata": {
  "kernelspec": {
   "display_name": "Python 3",
   "language": "python",
   "name": "python3"
  },
  "language_info": {
   "codemirror_mode": {
    "name": "ipython",
    "version": 3
   },
   "file_extension": ".py",
   "mimetype": "text/x-python",
   "name": "python",
   "nbconvert_exporter": "python",
   "pygments_lexer": "ipython3",
   "version": "3.6.6"
  }
 },
 "nbformat": 4,
 "nbformat_minor": 2
}
