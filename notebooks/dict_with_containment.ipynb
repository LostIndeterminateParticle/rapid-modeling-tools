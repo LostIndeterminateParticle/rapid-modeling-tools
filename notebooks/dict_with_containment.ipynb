{
 "cells": [
  {
   "cell_type": "code",
   "execution_count": 8,
   "metadata": {},
   "outputs": [
    {
     "name": "stdout",
     "output_type": "stream",
     "text": [
      "2\n",
      "3\n",
      "4\n",
      "5\n"
     ]
    }
   ],
   "source": [
    "base = {('s3', 't3', 'owner'), \n",
    "        ('s1', 't1', 'type'), ('s2', 't2', 'type'),\n",
    "        ('s4', 't4', 'owner'),\n",
    "        ('s5', 't5', 'memberEnd'), ('s6', 't6', 'memberEnd'),}\n",
    "\n",
    "ancestor = {('as1', 't1', 'type'), ('s2', 'at2', 'type'),\n",
    "            ('as3', 't3', 'owner'), ('s4', 'at4', 'owner'),\n",
    "            ('as5', 't5', 'memberEnd'),\n",
    "            ('s6', 'at6', 'memberEnd'),}\n",
    "\n",
    "base_change = base - ancestor\n",
    "ancestor_change = ancestor - base\n",
    "low = 2\n",
    "high = 6\n",
    "for j in range(low, high):\n",
    "    print(j)"
   ]
  },
  {
   "cell_type": "code",
   "execution_count": null,
   "metadata": {},
   "outputs": [],
   "source": []
  }
 ],
 "metadata": {
  "kernelspec": {
   "display_name": "Python 3",
   "language": "python",
   "name": "python3"
  },
  "language_info": {
   "codemirror_mode": {
    "name": "ipython",
    "version": 3
   },
   "file_extension": ".py",
   "mimetype": "text/x-python",
   "name": "python",
   "nbconvert_exporter": "python",
   "pygments_lexer": "ipython3",
   "version": "3.6.6"
  }
 },
 "nbformat": 4,
 "nbformat_minor": 2
}
