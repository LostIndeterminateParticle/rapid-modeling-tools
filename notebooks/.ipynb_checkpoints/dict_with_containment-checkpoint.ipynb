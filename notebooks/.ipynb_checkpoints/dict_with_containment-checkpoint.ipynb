{
 "cells": [
  {
   "cell_type": "code",
   "execution_count": 8,
   "metadata": {},
   "outputs": [
    {
     "name": "stdout",
     "output_type": "stream",
     "text": [
      "2\n",
      "3\n",
      "4\n",
      "5\n"
     ]
    }
   ],
   "source": [
    "base = {('s3', 't3', 'owner'), \n",
    "        ('s1', 't1', 'type'), ('s2', 't2', 'type'),\n",
    "        ('s4', 't4', 'owner'),\n",
    "        ('s5', 't5', 'memberEnd'), ('s6', 't6', 'memberEnd'),}\n",
    "\n",
    "ancestor = {('as1', 't1', 'type'), ('s2', 'at2', 'type'),\n",
    "            ('as3', 't3', 'owner'), ('s4', 'at4', 'owner'),\n",
    "            ('as5', 't5', 'memberEnd'),\n",
    "            ('s6', 'at6', 'memberEnd'),}\n",
    "\n",
    "base_change = base - ancestor\n",
    "ancestor_change = ancestor - base\n",
    "low = 2\n",
    "high = 6\n",
    "for j in range(low, high):\n",
    "    print(j)"
   ]
  },
  {
   "cell_type": "code",
   "execution_count": 38,
   "metadata": {},
   "outputs": [
    {
     "data": {
      "text/plain": [
       "3"
      ]
     },
     "execution_count": 38,
     "metadata": {},
     "output_type": "execute_result"
    }
   ],
   "source": [
    "base = {('s3', 't3', 'owner'), \n",
    "        ('s1', 't1', 'type'), ('s2', 't2', 'type'),\n",
    "        ('s4', 't4', 'owner'),\n",
    "        ('s5', 't5', 'memberEnd'), ('s6', 't6', 'memberEnd'),}\n",
    "# ancestor = {('as1', 't1', 'type'), ('s2', 'at2', 'type'),\n",
    "#             ('as3', 't3', 'owner'), ('s4', 'at4', 'owner'),\n",
    "#             ('as5', 't5', 'memberEnd'),\n",
    "#             ('s6', 'at6', 'memberEnd'),\n",
    "#             ('as7', 't7', 'type'), ('s8', 'at8', 'type'),\n",
    "#             ('as9', 't9', 'owner'), ('s10', 'at10', 'owner'),\n",
    "#             ('as11', 't11', 'memberEnd'),\n",
    "#             ('s12', 'at12', 'memberEnd'),\n",
    "#             ('s', 't', 'test'),}\n",
    "ancestor = {('as1', 't1', 'type'), ('s2', 'at2', 'type'),\n",
    "            ('as3', 't3', 'owner'), ('s4', 'at4', 'owner'),\n",
    "            ('as5', 't5', 'memberEnd'),\n",
    "            ('s6', 'at6', 'memberEnd'),}\n",
    "\n",
    "base_change = base - ancestor\n",
    "ance_change = ancestor - base\n",
    "\n",
    "base_change_list = sorted(list(base_change),\n",
    "                          key=lambda edge: len(edge[2]))\n",
    "ance_change_list = sorted(list(ance_change),\n",
    "                          key=lambda edge: len(edge[2]))\n",
    "base_map = {}\n",
    "# base_map = base_map.update({item[2]: item}) for item in base_change_list\n",
    "for item in base_change_list:\n",
    "    base_map.update({item[2]: item})\n",
    "\n",
    "base_map\n",
    "# base_change_l = list(base_change)\n",
    "# ance_change_l = list(ance_change)\n",
    "# shuffle(base_change_l)\n",
    "# shuffle(ance_change_l)\n",
    "\n",
    "# def compare(entry=None, pivot=None):\n",
    "#     if entry[2] == pivot[2]:\n",
    "#         if (entry[0] == pivot[0]) or (entry[1] == pivot[1]):\n",
    "#             return 0\n",
    "#             # check the subgraph\n",
    "#             # equal to if isomorphic\n",
    "#         else:\n",
    "#             pass\n",
    "#     elif entry[2] > pivot[2]:\n",
    "#         return 1\n",
    "#         # move entry to end of the array\n",
    "#     else:\n",
    "#         #move to beginning of array\n",
    "#         return -1\n",
    "    \n",
    "# def base_change_pairs(base=None, change=None,):\n",
    "#     pass"
   ]
  },
  {
   "cell_type": "code",
   "execution_count": 37,
   "metadata": {},
   "outputs": [
    {
     "ename": "SyntaxError",
     "evalue": "unexpected EOF while parsing (<ipython-input-37-54cbbd2f6f8a>, line 36)",
     "output_type": "error",
     "traceback": [
      "\u001b[1;36m  File \u001b[1;32m\"<ipython-input-37-54cbbd2f6f8a>\"\u001b[1;36m, line \u001b[1;32m36\u001b[0m\n\u001b[1;33m    elif len(base) > len(ancestor):\u001b[0m\n\u001b[1;37m                                   ^\u001b[0m\n\u001b[1;31mSyntaxError\u001b[0m\u001b[1;31m:\u001b[0m unexpected EOF while parsing\n"
     ]
    }
   ],
   "source": [
    "from random import shuffle\n",
    "base = {('s3', 't3', 'owner'), \n",
    "        ('s1', 't1', 'type'), ('s2', 't2', 'type'),\n",
    "        ('s4', 't4', 'owner'),\n",
    "        ('s5', 't5', 'memberEnd'), ('s6', 't6', 'memberEnd'),}\n",
    "ancestor = {('as1', 't1', 'type'), ('s2', 'at2', 'type'),\n",
    "            ('as3', 't3', 'owner'), ('s4', 'at4', 'owner'),\n",
    "            ('as5', 't5', 'memberEnd'),\n",
    "            ('s6', 'at6', 'memberEnd'),}\n",
    "\n",
    "base_change = base - ancestor\n",
    "ance_change = ancestor - base\n",
    "\n",
    "base_change_list = sorted(list(base_change),\n",
    "                          key=lambda edge: len(edge[2]))\n",
    "ance_change_list = sorted(list(ance_change),\n",
    "                          key=lambda edge: len(edge[2]))\n",
    "shuffle(base_change_list)\n",
    "shuffle(ance_change_list)\n",
    "\n",
    "base_map = dict((ea[2], list()) for ea in base_change_list)\n",
    "ance_map = dict((ea[2], list()) for ea in ance_change_list)\n",
    "\n",
    "for item in base_change_list:\n",
    "    base_map[item[2]].append(item) \n",
    "for item in ance_change_list:\n",
    "    ance_map[item[2]].append(item)\n",
    "\n",
    "# print(base_map)\n",
    "# print(ance_map)\n",
    "\n",
    "def shidduch(base=None, ancestor=None, matches={}):\n",
    "    base_is_small = False\n",
    "    large_matches = set()\n",
    "    \n",
    "    if len(base) <= len(ancestor):\n",
    "        small = base\n",
    "        large = ancestor\n",
    "        base_is_small = True\n",
    "    elif len(base) > len(ancestor):\n",
    "        small = ancestor\n",
    "        large = base\n",
    "        \n",
    "    while len(matches) < len(small):\n",
    "        new_match = match(small, large)\n",
    "        matches.update(new_match)\n",
    "        \n",
    "        large_matches = {v for k, v in matches}\n",
    "            \n",
    "        if base_is_small:\n",
    "            base = small.difference(set(matches.keys()))\n",
    "            ancestor = large.difference(large_matches)\n",
    "        else:\n",
    "            ancestor = small.difference(set(matches.keys()))\n",
    "            base = large.difference(large_matches)\n",
    "        \n",
    "        shidduch(base, ancestor, matches)\n",
    "        \n",
    "\n",
    "def match(small, large):\n",
    "    for candidate, count in enumerate(small):\n",
    "        if candidate[2] == large[count][2]:\n",
    "            if large[count]\n",
    "            \n",
    "        "
   ]
  },
  {
   "cell_type": "code",
   "execution_count": null,
   "metadata": {},
   "outputs": [],
   "source": []
  }
 ],
 "metadata": {
  "kernelspec": {
   "display_name": "Python 3",
   "language": "python",
   "name": "python3"
  },
  "language_info": {
   "codemirror_mode": {
    "name": "ipython",
    "version": 3
   },
   "file_extension": ".py",
   "mimetype": "text/x-python",
   "name": "python",
   "nbconvert_exporter": "python",
   "pygments_lexer": "ipython3",
   "version": "3.6.6"
  }
 },
 "nbformat": 4,
 "nbformat_minor": 2
}
